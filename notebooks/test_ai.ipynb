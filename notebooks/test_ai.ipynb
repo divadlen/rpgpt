{
 "cells": [
  {
   "cell_type": "code",
   "execution_count": 6,
   "metadata": {},
   "outputs": [],
   "source": [
    "import pandas as pd\n",
    "import os\n",
    "import sys"
   ]
  },
  {
   "cell_type": "code",
   "execution_count": 7,
   "metadata": {},
   "outputs": [],
   "source": [
    "import os\n",
    "import sys\n",
    "from dotenv import find_dotenv\n",
    "\n",
    "sys.path.append(os.path.dirname(find_dotenv()))"
   ]
  },
  {
   "cell_type": "code",
   "execution_count": 13,
   "metadata": {},
   "outputs": [],
   "source": [
    "df = pd.read_csv('../app/assets/samples/cdpq.csv')"
   ]
  },
  {
   "cell_type": "code",
   "execution_count": 16,
   "metadata": {},
   "outputs": [],
   "source": [
    "sectors = df['Sector'].unique()"
   ]
  },
  {
   "cell_type": "code",
   "execution_count": 56,
   "metadata": {},
   "outputs": [],
   "source": [
    "sectors = df['Sector'].unique().tolist()\n",
    "sco = df['Supply chain only'].unique().tolist()\n",
    "ifrs_status = df['IFRS-S2'].unique().tolist()\n",
    "afi_status = df['AFi'].unique().tolist()\n",
    "modules = df['Module name'].unique().tolist()"
   ]
  },
  {
   "cell_type": "code",
   "execution_count": 57,
   "metadata": {},
   "outputs": [],
   "source": [
    "filters = {\n",
    "    'Sector': sectors[0],\n",
    "    'Supply chain only': sco[0],\n",
    "    'IFRS-S2': ifrs_status[0],\n",
    "    'AFi': afi_status[0],\n",
    "    'Module name': modules[0],\n",
    "}"
   ]
  },
  {
   "cell_type": "code",
   "execution_count": 58,
   "metadata": {},
   "outputs": [],
   "source": [
    "def apply_filters(df, filters):\n",
    "    filtered_df = df.copy()\n",
    "    for k, v in filters.items():\n",
    "        filtered_df = filtered_df[filtered_df[k] == v]\n",
    "    return filtered_df"
   ]
  },
  {
   "cell_type": "code",
   "execution_count": 63,
   "metadata": {},
   "outputs": [
    {
     "data": {
      "text/html": [
       "<div>\n",
       "<style scoped>\n",
       "    .dataframe tbody tr th:only-of-type {\n",
       "        vertical-align: middle;\n",
       "    }\n",
       "\n",
       "    .dataframe tbody tr th {\n",
       "        vertical-align: top;\n",
       "    }\n",
       "\n",
       "    .dataframe thead th {\n",
       "        text-align: right;\n",
       "    }\n",
       "</style>\n",
       "<table border=\"1\" class=\"dataframe\">\n",
       "  <thead>\n",
       "    <tr style=\"text-align: right;\">\n",
       "      <th></th>\n",
       "      <th>Question Number</th>\n",
       "      <th>Module number</th>\n",
       "      <th>Module name</th>\n",
       "      <th>Section</th>\n",
       "      <th>2024 Question</th>\n",
       "      <th>Integrated</th>\n",
       "      <th>Environmental issues covered</th>\n",
       "      <th>Sector</th>\n",
       "      <th>Public authorities</th>\n",
       "      <th>Supply chain only</th>\n",
       "      <th>...</th>\n",
       "      <th>2023 Water Security question number</th>\n",
       "      <th>Integration</th>\n",
       "      <th>Alignment with IFRS S2</th>\n",
       "      <th>Alignment with other standard or framework</th>\n",
       "      <th>General improvement</th>\n",
       "      <th>Notes for changes</th>\n",
       "      <th>IFRS-S2</th>\n",
       "      <th>TNFD</th>\n",
       "      <th>ESRS</th>\n",
       "      <th>AFi</th>\n",
       "    </tr>\n",
       "  </thead>\n",
       "  <tbody>\n",
       "    <tr>\n",
       "      <th>0</th>\n",
       "      <td>1.1</td>\n",
       "      <td>1</td>\n",
       "      <td>Introduction</td>\n",
       "      <td>Introduction</td>\n",
       "      <td>In which language are you submitting your resp...</td>\n",
       "      <td>Yes</td>\n",
       "      <td>All</td>\n",
       "      <td>All sectors</td>\n",
       "      <td>Yes</td>\n",
       "      <td>No</td>\n",
       "      <td>...</td>\n",
       "      <td>SUB0.1</td>\n",
       "      <td>No</td>\n",
       "      <td>No</td>\n",
       "      <td>No</td>\n",
       "      <td>No</td>\n",
       "      <td>No change question</td>\n",
       "      <td>No</td>\n",
       "      <td>No</td>\n",
       "      <td>No</td>\n",
       "      <td>No</td>\n",
       "    </tr>\n",
       "    <tr>\n",
       "      <th>1</th>\n",
       "      <td>1.2</td>\n",
       "      <td>1</td>\n",
       "      <td>Introduction</td>\n",
       "      <td>Introduction</td>\n",
       "      <td>Select the currency used for all financial inf...</td>\n",
       "      <td>Yes</td>\n",
       "      <td>All</td>\n",
       "      <td>All sectors</td>\n",
       "      <td>Yes</td>\n",
       "      <td>No</td>\n",
       "      <td>...</td>\n",
       "      <td>W0.4</td>\n",
       "      <td>No</td>\n",
       "      <td>No</td>\n",
       "      <td>No</td>\n",
       "      <td>Yes</td>\n",
       "      <td>The question has been integrated to avoid dupl...</td>\n",
       "      <td>No</td>\n",
       "      <td>No</td>\n",
       "      <td>No</td>\n",
       "      <td>No</td>\n",
       "    </tr>\n",
       "  </tbody>\n",
       "</table>\n",
       "<p>2 rows × 25 columns</p>\n",
       "</div>"
      ],
      "text/plain": [
       "  Question Number  Module number   Module name        Section  \\\n",
       "0             1.1              1  Introduction  Introduction    \n",
       "1             1.2              1  Introduction  Introduction    \n",
       "\n",
       "                                       2024 Question Integrated  \\\n",
       "0  In which language are you submitting your resp...        Yes   \n",
       "1  Select the currency used for all financial inf...        Yes   \n",
       "\n",
       "  Environmental issues covered       Sector Public authorities  \\\n",
       "0                          All  All sectors                Yes   \n",
       "1                          All  All sectors                Yes   \n",
       "\n",
       "  Supply chain only  ... 2023 Water Security question number Integration  \\\n",
       "0                No  ...                              SUB0.1          No   \n",
       "1                No  ...                                W0.4          No   \n",
       "\n",
       "  Alignment with IFRS S2 Alignment with other standard or framework  \\\n",
       "0                     No                                         No   \n",
       "1                     No                                         No   \n",
       "\n",
       "  General improvement                                  Notes for changes  \\\n",
       "0                  No                                 No change question   \n",
       "1                 Yes  The question has been integrated to avoid dupl...   \n",
       "\n",
       "  IFRS-S2 TNFD ESRS AFi  \n",
       "0      No   No   No  No  \n",
       "1      No   No   No  No  \n",
       "\n",
       "[2 rows x 25 columns]"
      ]
     },
     "execution_count": 63,
     "metadata": {},
     "output_type": "execute_result"
    }
   ],
   "source": [
    "fdf = apply_filters(df, filters)\n",
    "fdf.head(2)"
   ]
  },
  {
   "cell_type": "code",
   "execution_count": 62,
   "metadata": {},
   "outputs": [
    {
     "data": {
      "text/plain": [
       "0     In which language are you submitting your resp...\n",
       "1     Select the currency used for all financial inf...\n",
       "2     Provide an overview and introduction to your o...\n",
       "3     State the end date of the year for which you a...\n",
       "4           Provide details on your reporting boundary.\n",
       "5     Does your organization have an ISIN code or an...\n",
       "26    Have you mapped where in your direct operation...\n",
       "Name: 2024 Question, dtype: object"
      ]
     },
     "execution_count": 62,
     "metadata": {},
     "output_type": "execute_result"
    }
   ],
   "source": [
    "fdf['2024 Question']"
   ]
  },
  {
   "cell_type": "code",
   "execution_count": null,
   "metadata": {},
   "outputs": [],
   "source": []
  }
 ],
 "metadata": {
  "kernelspec": {
   "display_name": "rpgpt",
   "language": "python",
   "name": "python3"
  },
  "language_info": {
   "codemirror_mode": {
    "name": "ipython",
    "version": 3
   },
   "file_extension": ".py",
   "mimetype": "text/x-python",
   "name": "python",
   "nbconvert_exporter": "python",
   "pygments_lexer": "ipython3",
   "version": "3.13.0"
  }
 },
 "nbformat": 4,
 "nbformat_minor": 2
}
